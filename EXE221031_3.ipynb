{
  "nbformat": 4,
  "nbformat_minor": 0,
  "metadata": {
    "colab": {
      "provenance": [],
      "authorship_tag": "ABX9TyPTisIuNdS+rrhhkEzgKbQG",
      "include_colab_link": true
    },
    "kernelspec": {
      "name": "python3",
      "display_name": "Python 3"
    },
    "language_info": {
      "name": "python"
    }
  },
  "cells": [
    {
      "cell_type": "markdown",
      "metadata": {
        "id": "view-in-github",
        "colab_type": "text"
      },
      "source": [
        "<a href=\"https://colab.research.google.com/github/sonhyeonji/EXE_221031/blob/main/EXE221031_3.ipynb\" target=\"_parent\"><img src=\"https://colab.research.google.com/assets/colab-badge.svg\" alt=\"Open In Colab\"/></a>"
      ]
    },
    {
      "cell_type": "code",
      "execution_count": null,
      "metadata": {
        "colab": {
          "base_uri": "https://localhost:8080/"
        },
        "id": "uZtYvebH0bjw",
        "outputId": "2b9ada78-0100-4b31-bf73-3a48d4589cda"
      },
      "outputs": [
        {
          "output_type": "stream",
          "name": "stdout",
          "text": [
            "x의 값을 입력하시오.:5\n",
            "y의 값을 입력하시오.:4\n",
            "x와 y의 합은: 9\n",
            "x와 y의 차은: 1\n",
            "x와 y의 곱은: 20\n",
            "x와 y의 평균은: 4.5\n",
            "x와 y의 큰수는: 5\n",
            "x와 y의 작은수는: 4\n"
          ]
        }
      ],
      "source": [
        "x=int(input(\"x의 값을 입력하시오.:\")) #변수 x의 값을 사용자로부터 받는다. int형으로\n",
        "y=int(input(\"y의 값을 입력하시오.:\")) #변수 y의 값을 사용자로부터 받는다. int형으로\n",
        "\n",
        "print(\"x와 y의 합은:\",x+y)\n",
        "print(\"x와 y의 차은:\",x-y)\n",
        "print(\"x와 y의 곱은:\",x*y)\n",
        "print(\"x와 y의 평균은:\",(x+y)/2)\n",
        "print(\"x와 y의 큰수는:\",max(x,y))\n",
        "print(\"x와 y의 작은수는:\",min(x,y))"
      ]
    },
    {
      "cell_type": "code",
      "source": [
        "r=float(input(\"r값을 입력하시오:\")) #변수 r의 값을 사용자로부터 받는다. float형으로\n",
        "h=float(input(\"h값을 입력하시오:\")) #변수 h의 값을 사용자로부터 받는다. float형으로\n",
        "vol=3.14192*r**2*h\n",
        "print(\"윈기둥의 부피는:\",vol,\"입니다.\")"
      ],
      "metadata": {
        "colab": {
          "base_uri": "https://localhost:8080/"
        },
        "id": "W8vWyRhn2VOM",
        "outputId": "dbc21ba5-b7e1-4fd7-a9d0-bea1e5a05569"
      },
      "execution_count": null,
      "outputs": [
        {
          "output_type": "stream",
          "name": "stdout",
          "text": [
            "r값을 입력하시오:10\n",
            "h값을 입력하시오:100\n",
            "윈기둥의 부피는: 31419.2 입니다.\n"
          ]
        }
      ]
    },
    {
      "cell_type": "code",
      "source": [
        "number=int(input(\"정수를 입력하시오.:\"))\n",
        "sum=0   #변수 sum을 초기화 0으로 한다.\n",
        "sum= sum+number % 10\n",
        "number= number //10 \n",
        "sum= sum+number % 10\n",
        "number= number //10 \n",
        "sum= sum+number % 10\n",
        "number= number //10 \n",
        "sum= sum+number % 10\n",
        "number= number //10 \n",
        "print(\"자리수의 합:\",str(sum))"
      ],
      "metadata": {
        "colab": {
          "base_uri": "https://localhost:8080/"
        },
        "id": "lc-N5KD72zi0",
        "outputId": "a69c811f-9a94-4072-80d5-08b9001d4c0e"
      },
      "execution_count": null,
      "outputs": [
        {
          "output_type": "stream",
          "name": "stdout",
          "text": [
            "정수를 입력하시오.:12345\n",
            "자리수의 합: 14\n"
          ]
        }
      ]
    },
    {
      "cell_type": "code",
      "source": [
        "x1=int(input(\"x1의 값:\")) #변수 x1의 값을 사용자로부터 받는다. int형으로\n",
        "y1=int(input(\"y1의 값:\")) #변수 y1의 값을 사용자로부터 받는다. int형으로\n",
        "\n",
        "x2=int(input(\"x2의 값:\")) #변수 x2의 값을 사용자로부터 받는다. int형으로\n",
        "y2=int(input(\"y2의 값:\")) #변수 y2의 값을 사용자로부터 받는다. int형으로\n",
        "dist=((x2-x1)**2+(y2-y1)**2)**0.5\n",
        "print(\"두점 사이의 거리=\",dist,\"입니다.\")"
      ],
      "metadata": {
        "colab": {
          "base_uri": "https://localhost:8080/"
        },
        "id": "yADOJYjL8CFb",
        "outputId": "5cd9f747-e2d3-4487-8f6b-28c66af9a9ba"
      },
      "execution_count": null,
      "outputs": [
        {
          "output_type": "stream",
          "name": "stdout",
          "text": [
            "x1의 값:0\n",
            "y1의 값:0\n",
            "x2의 값:100\n",
            "y2의 값:100\n",
            "두점 사이의 거리= 141.4213562373095 입니다.\n"
          ]
        }
      ]
    },
    {
      "cell_type": "code",
      "source": [
        "import time             #시간을 불러온다\n",
        "fsecond=time.time()\n",
        "total_sec=int(fsecond)\n",
        "total_min=total_sec//60\n",
        "minute=total_min%60\n",
        "total_hour=total_min//60\n",
        "hour=total_hour%24\n",
        "\n",
        "print(\"현재시간은(영국 스리니치 표준시각);\",str(hour)+\"시\"+str(minute)+\"분\")"
      ],
      "metadata": {
        "colab": {
          "base_uri": "https://localhost:8080/"
        },
        "id": "6b-fiwmgCRBF",
        "outputId": "46dd0e85-7b50-42f8-b5e0-dddac29a4a6b"
      },
      "execution_count": null,
      "outputs": [
        {
          "output_type": "stream",
          "name": "stdout",
          "text": [
            "현재시간은(영국 스리니치 표준시각); 3시47분\n"
          ]
        }
      ]
    },
    {
      "cell_type": "code",
      "source": [
        "a=int(input(\"물체의 무게를 입력하시오.(킬로그램):\"))\n",
        "b=int(input(\"물체의 속도를 입력하시오.(미터/초):\"))\n",
        "print(\"물체는\", 1/2*a*b**2, \"(줄)의 에너지를 가지고 있다.\")"
      ],
      "metadata": {
        "id": "JSVMaw5oLAhw",
        "outputId": "83b7a555-52cb-43d7-999c-508b272765fb",
        "colab": {
          "base_uri": "https://localhost:8080/"
        }
      },
      "execution_count": 1,
      "outputs": [
        {
          "output_type": "stream",
          "name": "stdout",
          "text": [
            "물체의 무게를 입력하시오.(킬로그램):10\n",
            "물체의 속도를 입력하시오.(미터/초):100\n",
            "물체는 50000.0 (줄)의 에너지를 가지고 있다.\n"
          ]
        }
      ]
    }
  ]
}